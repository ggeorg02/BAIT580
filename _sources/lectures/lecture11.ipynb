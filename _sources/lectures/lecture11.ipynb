{
 "cells": [
  {
   "cell_type": "markdown",
   "id": "71aa2652-2e6c-4e44-900b-08bbaec5dd4f",
   "metadata": {},
   "source": [
    "# Lecture 10: Graph exercise\n",
    "\n",
    "Gittu George, February 3, 2022"
   ]
  },
  {
   "cell_type": "markdown",
   "id": "58b80d98-2895-4e32-889f-2ed92c32c353",
   "metadata": {},
   "source": [
    "## Agenda\n",
    "- Hadoop/Spark story\n",
    "- AWS exploration\n",
    "- Graph exercise \n",
    "- Conclusion\n",
    "\n",
    "## Objectives\n",
    "- You will be having an understanding of what Hadoop and spark is\n",
    "- We will explore AWS with whatever knowledge we have now.\n",
    "\n",
    "- Graph exercise\n",
    "\n",
    "## Hadoop/Spark story\n",
    "[Download slides](https://canvas.ubc.ca/files/19225284/download?download_frd=1)\n",
    "\n",
    "## AWS exploration\n",
    "\n",
    "## Graph Exercise \n",
    "\n",
    "### Question: Retweet Rate\n",
    "\n",
    "I'm interested to know whether there is a relationship between the rate at which people reply, and are replied to. Upload the data to your database following [these instructions.](https://ggeorg02.github.io/BAIT580/lectures/lecture9.html#working-with-dumps)"
   ]
  },
  {
   "cell_type": "code",
   "execution_count": null,
   "id": "c9464c21-1ba4-43cb-adbd-db4bb555972e",
   "metadata": {},
   "outputs": [],
   "source": [
    "## Install necessary packages here."
   ]
  },
  {
   "cell_type": "markdown",
   "id": "a27161c4-31c1-4c4f-bd52-d25e57c5843c",
   "metadata": {},
   "source": [
    "```\n",
    "import os\n",
    "from py2neo import Graph\n",
    "\n",
    "graph = Graph(uri = '_',\n",
    "              user = '_',\n",
    "              password = '_')\n",
    "\n",
    "# Your query\n",
    "replyRate = graph.run(\"\"\"_____\"\"\").data()\n",
    "\n",
    "import plotly.express as px\n",
    "px.scatter(replyRate, x='gotreply', y='sentreply')\n",
    "```"
   ]
  },
  {
   "cell_type": "markdown",
   "id": "f7efc260-a171-41cd-b8cd-d657bdb2b085",
   "metadata": {},
   "source": [
    "***In any graph questions keep two rules in mind. Can you...***\n",
    "- Break the questions into various parts\n",
    "  - the rate at which people reply\n",
    "  - and are replied to\n",
    "- Can you draw the logic with a pen and paper? (Maybe for a complex scenario or for identifying some interesting questions)\n",
    "\n",
    "```{toggle}\n",
    "Did you draw ?\n",
    "\n",
    "![](img/graphtwi.png)\n",
    "```\n",
    "\n",
    "***Here are some of my thoughts on formulating a CQL query.***\n",
    "\n",
    "- What are the elements that I need to RETURN?\n",
    "    - gotreply (the rate at which people reply), \n",
    "    - sentreply (and are replied to)\n",
    "- Where can I get these elements? (Check CALL apoc.meta.data())\n",
    "- What pattern do I need to give in my MATCH? \n",
    "    - I need to be careful [with the direction](https://ggeorg02.github.io/BAIT580/lectures/lecture8.html#relationships).\n",
    "- Do I need to provide multiple MATCH clauses/patterns? \n",
    "    - Maybe multiple MATCH for subquerying\n",
    "- Is any [subquery needed?](https://ggeorg02.github.io/BAIT580/lectures/lecture10.html#limiting-the-number-of-results) \n",
    "    - Maybe YES, one for the first breakdown (gotreply)\n",
    "    - and the other for the second breakdown I listed.(sentreply)\n",
    "- Do I have to do any aggregation? \n",
    "    - YES, [sum()](https://neo4j.com/docs/cypher-manual/current/functions/aggregating/#functions-sum), so what property needs to be inside this? \n",
    "- Okay, I need to do aggregation, but what should be [the grouping key ?](https://ggeorg02.github.io/BAIT580/lectures/lecture10.html#aggregation-in-cypher)"
   ]
  },
  {
   "cell_type": "markdown",
   "id": "cb964d7d-fdca-4654-93e3-9b9bef6bd15c",
   "metadata": {},
   "source": [
    "### Conclusion \n",
    "![](img/thanks.png)"
   ]
  }
 ],
 "metadata": {
  "kernelspec": {
   "display_name": "Python 3 (ipykernel)",
   "language": "python",
   "name": "python3"
  },
  "language_info": {
   "codemirror_mode": {
    "name": "ipython",
    "version": 3
   },
   "file_extension": ".py",
   "mimetype": "text/x-python",
   "name": "python",
   "nbconvert_exporter": "python",
   "pygments_lexer": "ipython3",
   "version": "3.8.12"
  }
 },
 "nbformat": 4,
 "nbformat_minor": 5
}
