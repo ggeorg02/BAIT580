{
 "cells": [
  {
   "cell_type": "markdown",
   "id": "2966d98b",
   "metadata": {},
   "source": [
    "# Lecture 5: Disk Management and Indexes\n",
    "Gittu George, January 18 2022"
   ]
  },
  {
   "cell_type": "markdown",
   "id": "c894801c",
   "metadata": {},
   "source": [
    "## Todays Agenda\n",
    "\n",
    "- How do humans store and search data?\n",
    "- How does Postgres store data? \n",
    "- How does Postgres search data?\n",
    "- WHY indexes?\n",
    "- WHAT are indexes?\n",
    "- Different kinds of indexes\n",
    "- Do I need an index?\n",
    "\n",
    "## Learning objectives\n",
    "- You will apply knowledge of disk management and query structure to optimize complex queries.\n",
    "- You will understand the different types of INDEXes available in Postgres and the best-suited applications\n",
    "- You will be able to profile and optimize various queries to provide the fastest response.\n",
    "\n",
    "I will use the `testindex` table from `fakedata` schema for demonstration. You can load this data to your database using this [dump](https://canvas.ubc.ca/files/18838846/download?download_frd=1). It's a zip file; do make sure you extract it.\n",
    "\n",
    "\n",
    "## How do humans store and search data?\n",
    "Think about how we used to store data before the era of computers? We used to store the data in books. Let's take this children's encyclopedia as an example.\n",
    "\n",
    "<img src='img/ency.png' width=90%>\n",
    "\n",
    ".\n",
    "\n",
    "There are around 300 `pages` in this book, and if a kid wants to know about `China`, they will go from the first `page` until she gets to 48th `page`.\n",
    "\n",
    "This is how a kid would `search`, but if you want to read about china, you would go to the `index` of this book, look for `China`, and go to the 48th page straight away. If you want to read some history about indexes, check out [this](http://www.elephant.org.il/indexing/a-history-of-index-creation) article.\n",
    "\n",
    "OKAY, now you all know how humans search for data from a book; Postgres also store and search data similarly.\n",
    "\n",
    "## How does Postgres store data? \n",
    "Information within a database is also stored in pages. A database page is not structured like in a book, but it's structured like below.\n",
    "\n",
    "<img src='img/page.png' width=90%>\n",
    "\n",
    ".\n",
    "\n",
    "So these pages are of 8 kB blocks; there are some meta-data as headers (green) at the front of it and item ID (yellow) that points to the tuples(rows). This ends with a special section (blue) left empty in ordinary tables, but if we have some indexes set on the tables, it will have some information to facilitate the index access methods.\n",
    "\n",
    "So a table within a database will have a list of pages where the data is stored, and these individual pages store multiple tuples within that table.\n",
    "\n",
    "Read more about it [here.](https://www.postgresql.org/docs/current/storage-page-layout.html)\n",
    "\n",
    "## How does Postgres search data?\n",
    "\n",
    "Let's consider a complicated table.\n",
    "\n",
    "<img src='img/table.png' width=70%>\n",
    "\n",
    "For explanation, let's assume that the contents in this table are stored in 3 page files. Here we are interested in finding the rows with the unique name that starts with `y`. A database, just like a kid, needs to search through the 3 pages to find the rows that contain a name that begins with `y`. This is a sequential search, and this is how a database search by default. This process could be slow if we got millions of rows spread across multiple pages, as the computer needs to go through the entire pages to find the names that start with y. \n",
    "\n",
    "Also, here in this example, let's assume that Yokamino is on page 2, the database will find this on page 2, but it will still go to page 3 in search of other occurrences of names that start with y. WHY? Because it doesn't know that there is only a single occurrence of a name that starts with y. \n",
    "\n",
    "Let's look at how Postgres search for data using `EXPLAIN`. We will do this on table `fakedata.testindex`,"
   ]
  },
  {
   "cell_type": "markdown",
   "id": "b856196b-e6b2-46fa-a7bd-ed49fe36015e",
   "metadata": {},
   "source": [
    "```\n",
    "import os\n",
    "import psycopg2\n",
    "import psycopg2.extras\n",
    "import random\n",
    "from dotenv import load_dotenv\n",
    "import time\n",
    "import datetime\n",
    "\n",
    "load_dotenv()\n",
    "\n",
    "conString = {'host':os.environ.get('DB_HOST'),\n",
    "             'dbname':os.environ.get('DB_NAME'),\n",
    "             'user':os.environ.get('DB_USER'),\n",
    "             'password':os.environ.get('DB_PASS'),\n",
    "             'port':os.environ.get('DB_PORT')}\n",
    "\n",
    "conn = psycopg2.connect(**conString)\n",
    "cur = conn.cursor()\n",
    "```"
   ]
  },
  {
   "cell_type": "markdown",
   "id": "d7181c1d-227b-4dba-9431-112e7de22819",
   "metadata": {},
   "source": [
    "```\n",
    "## i am dropping previous index \n",
    "createindex = \"\"\"DROP INDEX if exists fakedata.hash_testindex_index;\n",
    "DROP INDEX if exists fakedata.pgweb_idx;\n",
    "DROP INDEX if exists default_testindex_index;\"\"\"\n",
    "cur.execute(createindex)\n",
    "conn.commit()\n",
    "```"
   ]
  },
  {
   "cell_type": "markdown",
   "id": "04734f9f",
   "metadata": {},
   "source": [
    "Here, we do a normal search for a product name within the column `productname`."
   ]
  },
  {
   "cell_type": "markdown",
   "id": "2790abd3-93e7-42d8-a4ca-eed7c906db22",
   "metadata": {},
   "source": [
    "```\n",
    "query = \"\"\"explain analyze select count(*) from fakedata.testindex where productname = 'flavor halibut';\"\"\"\n",
    "cur.execute(query)\n",
    "cur.fetchall()\n",
    "```"
   ]
  },
  {
   "cell_type": "markdown",
   "id": "4c3ca5b9",
   "metadata": {},
   "source": [
    "We are doing a pattern matching search to return all the `productname` that start with `fla`."
   ]
  },
  {
   "cell_type": "markdown",
   "id": "7d40b26f-c513-44ae-9c15-e3b8a806b4ca",
   "metadata": {},
   "source": [
    "```\n",
    "query = \"\"\"EXPLAIN ANALYZE SELECT COUNT(*) FROM fakedata.testindex WHERE productname LIKE 'fla%';\"\"\"\n",
    "cur.execute(query)\n",
    "cur.fetchall()\n",
    "```"
   ]
  },
  {
   "cell_type": "markdown",
   "id": "65710707",
   "metadata": {},
   "source": [
    "```{note}\n",
    "A query is turned into an internal execution plan breaking the query into specific elements that are re-ordered and optimized. Read more about EXPLAIN [here](https://www.postgresql.org/docs/9.5/using-explain.html). [This](https://thoughtbot.com/blog/reading-an-explain-analyze-query-plan) blog also explains it well.\n",
    "```\n",
    "\n",
    "These are computers, so it's faster than humans to go through all the pages, but it's inefficient. Won't it be cool to tell the database that the data you are looking for is only on certain pages, so you don't want to go through all these pages !!! This is WHY we want indexes. We will see if indexing can speed up the previous query.\n",
    "\n",
    "## WHAT are indexes?\n",
    "\n",
    "Indexes make a map of each of these rows effectively as where they are put into the page files so we can do a sequential scan of an index to find the pointer to page/pages this information is stored. So the database can go straight to those pages and skip the rest of the pages.\n",
    "\n",
    "<img src='img/indexscan.png' width=60%>\n",
    "\n",
    "Index gets applied to a column in a table. As we were querying on the column `productname`, let's now apply an index to the column `productname` in the database and see how the query execution plan changes. Will it improve the speed? Let's see.."
   ]
  },
  {
   "cell_type": "markdown",
   "id": "95738d29-112a-4d79-89ce-88735f6e37bd",
   "metadata": {},
   "source": [
    "```\n",
    "%%time\n",
    "createindex = \"\"\"CREATE INDEX if not exists default_testindex_index ON fakedata.testindex (productname varchar_pattern_ops);\"\"\"\n",
    "cur.execute(createindex)\n",
    "conn.commit()\n",
    "```"
   ]
  },
  {
   "cell_type": "markdown",
   "id": "1f753f0b-097b-408f-8c0e-31b7fe9459ed",
   "metadata": {},
   "source": [
    "```\n",
    "query = \"\"\"explain analyze select count(*) from fakedata.testindex where productname = 'flavor halibut';\"\"\"\n",
    "cur.execute(query)\n",
    "cur.fetchall()\n",
    "```"
   ]
  },
  {
   "cell_type": "markdown",
   "id": "a8cb67fc-6021-4eef-ace2-70db1a175329",
   "metadata": {},
   "source": [
    "```\n",
    "query = \"\"\"EXPLAIN ANALYZE \n",
    "SELECT COUNT(*) FROM fakedata.testindex \n",
    "WHERE productname LIKE 'fla%';\"\"\"\n",
    "cur.execute(query)\n",
    "cur.fetchall()\n",
    "```"
   ]
  },
  {
   "cell_type": "markdown",
   "id": "1046e917",
   "metadata": {},
   "source": [
    "It increased the speed, and you see that your query planner used the index to speed up queries.\n",
    "\n",
    "But keep in mind if the selection criteria are too broad, or the INDEX is too imprecise, the query planner will skip it.\n",
    "\n",
    "<img src='img/indexscanbroad.png' width=65%>\n",
    "\n",
    "Let's try that out."
   ]
  },
  {
   "cell_type": "markdown",
   "id": "3b49488e-55f8-4296-a937-7537d78b514e",
   "metadata": {},
   "source": [
    "```\n",
    "query = \"\"\"EXPLAIN ANALYZE \n",
    "SELECT COUNT(*) FROM fakedata.testindex \n",
    "WHERE productname LIKE '%';\"\"\"\n",
    "cur.execute(query)\n",
    "cur.fetchall()\n",
    "```"
   ]
  },
  {
   "cell_type": "markdown",
   "id": "db99aeba",
   "metadata": {},
   "source": [
    "It's good that database engines are smart enough to identify if it's better to look at an index or perform a sequential scan. Here in this example, the database engine understands the query is too broad. But, ultimately, it's going to search through entire rows, so it's better to perform a sequential scan rather than look up at the index. \n",
    "\n",
    "As the index is making a map in the disk, it takes up disk storage. Let's see how much space this index is taking up"
   ]
  },
  {
   "cell_type": "markdown",
   "id": "acf85a93-ef98-4bc9-bdb0-603ddc0582eb",
   "metadata": {},
   "source": [
    "```\n",
    "query = \"\"\"SELECT pg_size_pretty (pg_indexes_size('fakedata.testindex'));\"\"\"\n",
    "cur.execute(query)\n",
    "cur.fetchall()\n",
    "```"
   ]
  },
  {
   "cell_type": "markdown",
   "id": "a1402bd9",
   "metadata": {},
   "source": [
    "Now we realize indexes are great! So let's try some different queries."
   ]
  },
  {
   "cell_type": "markdown",
   "id": "7eb04468-854c-4782-a898-ee0ad52e0f55",
   "metadata": {},
   "source": [
    "```\n",
    "query = \"\"\"EXPLAIN ANALYZE \n",
    "SELECT COUNT(*) FROM fakedata.testindex \n",
    "WHERE productname LIKE '%fla%';\"\"\"\n",
    "cur.execute(query)\n",
    "cur.fetchall()\n",
    "```"
   ]
  },
  {
   "cell_type": "markdown",
   "id": "9890adea",
   "metadata": {},
   "source": [
    "This was not too broad search; we were trying to return all the elements that contains `fla`. But why didn't it speed things up? So we can't always go with default indexing, and it might not be helpful in all cases. That's why it's important to know about different indexes and a general understanding of how it works. This will help you to choose indexes properly in various situations.\n",
    "\n",
    "## Different kinds of indexes\n",
    "\n",
    "In this section, we will go through various kinds of indexes and syntax for creating them;\n",
    "\n",
    "- B-Tree (binary search tree - btree)\n",
    "- Hash\n",
    "- GIST (Generalized Search Tree)\n",
    "- GIN (Generalized Inverted Tree)\n",
    "- BRIN (Block Range Index)\n",
    "\n",
    "Each has its own set of operations, tied to Postgres functions/operators. For example, you can read about indexes [here](https://www.postgresql.org/docs/current/indexes-types.html). \n",
    "\n",
    "The general syntax for making an index:\n",
    "```\n",
    "CREATE INDEX indexname ON schema.tablename USING method (columnname opclass);\n",
    "```\n",
    "\n",
    "B-Tree is the default index, and you can see we used this previously for column `productname`.\n",
    "```\n",
    "CREATE INDEX if not exists default_testindex_index ON fakedata.testindex (productname varchar_pattern_ops);\n",
    "```\n",
    "\n",
    "### B-Tree\n",
    "- Values are balanced across nodes to produce a minimum-spanning tree.\n",
    "- Each node splits values, each “leaf” points to addresses.\n",
    "- All nodes are equidistant from the root.\n",
    "- High Key\n",
    "\n",
    "<img src='img/btreenum.png' width=80%>\n",
    "\n",
    "Btree is not just about dealing with numbers but also handling text columns; that's the reason why I gave `varchar_pattern_ops` as `opclass`. So in this example, finds the field that we are looking for in just 3 steps, rather than scanning 7 rows.\n",
    "\n",
    "<img src='img/btreealph.png' width=80%>\n",
    "\n",
    "### Hash\n",
    "- Cell values are hashed (encoded) form and mapped to address “buckets”\n",
    "- Hash -> bucket mappings -> disk address\n",
    "- The hash function tries to balance the number of buckets & number of addresses within a bucket\n",
    "- Hash only supports EQUALITY\n",
    "\n",
    "<img src='img/hash.png' width=80%>\n",
    "\n",
    "Let's create a hash index on column `productname` and execute queries that we ran before"
   ]
  },
  {
   "cell_type": "markdown",
   "id": "3e56dbef-650b-4091-924b-ad69fcbc3baa",
   "metadata": {},
   "source": [
    "```\n",
    "%%time\n",
    "## i am dropping previous index \n",
    "createindex = \"\"\"DROP INDEX fakedata.default_testindex_index;\n",
    "CREATE INDEX if not exists hash_testindex_index ON fakedata.testindex USING hash(productname);\"\"\"\n",
    "cur.execute(createindex)\n",
    "conn.commit()\n",
    "```"
   ]
  },
  {
   "cell_type": "markdown",
   "id": "63fe2824-f758-491e-9ca1-62c0db195b85",
   "metadata": {},
   "source": [
    "```\n",
    "query = \"\"\"explain analyze select count(*) from fakedata.testindex where productname = 'flavor halibut';\"\"\"\n",
    "cur.execute(query)\n",
    "cur.fetchall()\n",
    "```"
   ]
  },
  {
   "cell_type": "markdown",
   "id": "1d610947-208c-4444-928f-bc2103b7f34f",
   "metadata": {},
   "source": [
    "```\n",
    "query = \"\"\"EXPLAIN ANALYZE \n",
    "SELECT COUNT(*) FROM fakedata.testindex \n",
    "WHERE productname LIKE 'fla%';\"\"\"\n",
    "cur.execute(query)\n",
    "cur.fetchall()\n",
    "```"
   ]
  },
  {
   "cell_type": "markdown",
   "id": "40c9faa9-6ad0-49f2-a1fa-0041adb235e4",
   "metadata": {},
   "source": [
    "```\n",
    "query = \"\"\"SELECT pg_size_pretty (pg_indexes_size('fakedata.testindex'));\"\"\"\n",
    "cur.execute(query)\n",
    "cur.fetchall()\n",
    "```"
   ]
  },
  {
   "cell_type": "markdown",
   "id": "b97d6cfb",
   "metadata": {},
   "source": [
    "- Why do you think hash takes up more space here?\n",
    "- When do you think it's best to you hash indexing?"
   ]
  },
  {
   "cell_type": "markdown",
   "id": "6b5d6fc9",
   "metadata": {},
   "source": [
    "### GIN\n",
    "\n",
    "Before talking about GIN indexes, let me give you a little bit of background on a full-text search. Full-text search is usually used if you have a column with sentences and you need to query rows based on the match for a particular string in that sentence. For example, say we want to get rows with `new` in the `sentence` column.\n",
    "\n",
    "| row number  | sentence|\n",
    "|-------------|------------------------------------------------|\n",
    "| 1           | this column has to do some thing with new year, also has to do something with row |\n",
    "| 2           | this column has to do some thing with colors   |\n",
    "| 3           | new year celebrated on 1st Jan                 |\n",
    "| 4           | new year celebration was very great this year  |\n",
    "| 5           | This is about cars released this year          |\n",
    "\n",
    "\n",
    "We usually query it this way, this definitely will return our result, but it takes time.\n",
    "```\n",
    "SELECT * FROM fakedata.testindex \n",
    "WHERE productname LIKE '%new%';\n",
    "```\n",
    "That's why we go for full-text search; I found [this](https://arctype.com/blog/postgres-full-text-search/) blog to help understand this.\n",
    "```\n",
    "SELECT * FROM fakedata.testindex \n",
    "WHERE to_tsvector('english', sentence) @@ to_tsquery('english','new');';\n",
    "```\n",
    "Here we are converting the type of column `sentence` to `tsvector`\n",
    "Here the first row in sentence column `this column has to do something with the new year, also has to do something with row` will be represented like this internally \n",
    "```\n",
    "'also':11 'column':2 'do':5,14 'has':3,12 'new':9 'row':17 'some':6 'something':15 'thing':7 'this':1 'to':4,13 'with':8,16 'year':10\n",
    "```\n",
    "`to_tsquery` is how you query, and here we query for `new` using `to_tsquery('english','new')`.\n",
    "\n",
    "Postgres does a pretty good job with the full-text search, but if we want to speed up the search, we go for GIN indexes. The column needs to be of `tsvector` type for a full-text search.\n",
    "\n",
    "- Indexing many values to the same row\n",
    "- Inverse of B-tree - one value to many rows\n",
    "e.g., “quick”, or “brown” or “the” all point to row 1\n",
    "- Most commonly used for `full-text searching.`\n",
    "\n",
    "<img src='img/gin.png' width=50%>\n",
    "\n",
    "Let's try these on our tables;"
   ]
  },
  {
   "cell_type": "markdown",
   "id": "93f768ad-7429-45a3-870f-d7bce5779a23",
   "metadata": {},
   "source": [
    "```\n",
    "query = \"\"\"EXPLAIN ANALYZE SELECT count(*) FROM fakedata.testindex WHERE to_tsvector('english', productname) @@ to_tsquery('english','flavor');\"\"\"\n",
    "cur.execute(query)\n",
    "cur.fetchall()\n",
    "```"
   ]
  },
  {
   "cell_type": "markdown",
   "id": "553abd53-37e2-4c26-9250-fbd1bd3b8a9d",
   "metadata": {},
   "source": [
    "```\n",
    "%%time\n",
    "createindex = \"\"\"DROP INDEX if exists fakedata.hash_testindex_index;\n",
    "DROP INDEX if exists fakedata.pgweb_idx;\n",
    "CREATE INDEX if not exists pgweb_idx ON fakedata.testindex USING GIN (to_tsvector('english', productname));\n",
    "CREATE INDEX if not exists pgweb_idx_mat ON fakedata.testindex_materialized USING GIN (productname_ts);\"\"\"\n",
    "cur.execute(createindex)\n",
    "conn.commit()\n",
    "```"
   ]
  },
  {
   "cell_type": "markdown",
   "id": "27927604-29ea-4fda-917c-3686a5a81b52",
   "metadata": {},
   "source": [
    "```\n",
    "query = \"\"\"EXPLAIN ANALYZE SELECT count(*) FROM fakedata.testindex WHERE to_tsvector('english', productname) @@ to_tsquery('english','flavor');\"\"\"\n",
    "cur.execute(query)\n",
    "cur.fetchall()\n",
    "```"
   ]
  },
  {
   "cell_type": "markdown",
   "id": "3d76c08e",
   "metadata": {},
   "source": [
    "By creating a materialized view with a computed `tsvector` column, we can make searches even faster, since it will not be necessary to redo the to_tsvector calls to verify index matches."
   ]
  },
  {
   "cell_type": "markdown",
   "id": "dfb70f2c-b453-4c55-b9f7-f3ae7a194de3",
   "metadata": {},
   "source": [
    "```\n",
    "query = \"\"\"EXPLAIN ANALYZE SELECT count(*) FROM fakedata.testindex_materialized WHERE productname_ts @@ to_tsquery('english','flavor');\"\"\"\n",
    "cur.execute(query)\n",
    "cur.fetchall()\n",
    "```"
   ]
  },
  {
   "cell_type": "markdown",
   "id": "af076345",
   "metadata": {},
   "source": [
    "This indexing does speed up things if we want to search for a particular word from a column, like `flavor`. But if we want to search for some pattern within a sentence, then this index won't help. EG the query what we trying from beginning "
   ]
  },
  {
   "cell_type": "markdown",
   "id": "482cd24d-2e66-4cb5-a6ec-f45802141424",
   "metadata": {},
   "source": [
    "```\n",
    "query = \"\"\"EXPLAIN ANALYZE \n",
    "SELECT COUNT(*) FROM fakedata.testindex \n",
    "WHERE productname LIKE '%fla%';\"\"\"\n",
    "cur.execute(query)\n",
    "cur.fetchall()\n",
    "```"
   ]
  },
  {
   "cell_type": "markdown",
   "id": "20909a67",
   "metadata": {},
   "source": [
    "Hence, we want a different flavor of gin indexing, trigram index. I found [this](https://scoutapm.com/blog/how-to-make-text-searches-in-postgresql-faster-with-trigram-similarity) blog to help understand this.\n",
    "\n",
    "Trigrams are a special case of [N-grams](https://web.stanford.edu/~jurafsky/slp3/4.pdf). The concept relies on dividing the sentence into a sequence of three consecutive letters, and this result is considered as a `set .`Before performing this process \n",
    "- Two blank spaces are added at the beginning. \n",
    "- One at the end. \n",
    "- Double ones replace single spaces. \n",
    "\n",
    "\n",
    "The trigram set corresponding to \"flavor halibut\" looks like this:\n",
    "\n",
    "{\"  f\",\"  h\",\" fl\",\" ha\",ali,avo,but,fla,hal,ibu,lav,lib,\"or \",\"ut \",vor}\n",
    "\n",
    "These are considered words, and the rest remains the same as what we discussed before. To use this index add `gin_trgm_ops` as `operator class`. Let's do it."
   ]
  },
  {
   "cell_type": "markdown",
   "id": "73d2c1d0-c7c4-463a-a1b8-96d6ddb42131",
   "metadata": {},
   "source": [
    "```\n",
    "%%time\n",
    "createindex = \"\"\"DROP INDEX if exists fakedata.pgweb_idx;\n",
    "CREATE INDEX pgweb_idx ON fakedata.testindex USING GIN (productname gin_trgm_ops);\"\"\"\n",
    "cur.execute(createindex)\n",
    "conn.commit()\n",
    "```"
   ]
  },
  {
   "cell_type": "markdown",
   "id": "02f734ff",
   "metadata": {},
   "source": [
    "Let's see if it speeds up the query that we tried in many cases before."
   ]
  },
  {
   "cell_type": "markdown",
   "id": "da3ef859-0d4b-4b51-94ea-951409a03a83",
   "metadata": {},
   "source": [
    "```\n",
    "query = \"\"\"EXPLAIN ANALYZE \n",
    "SELECT COUNT(*) FROM fakedata.testindex \n",
    "WHERE productname LIKE '%fla%';\"\"\"\n",
    "cur.execute(query)\n",
    "cur.fetchall()\n",
    "```"
   ]
  },
  {
   "cell_type": "markdown",
   "id": "e6f61149-a203-4ff5-98b4-689d09588359",
   "metadata": {},
   "source": [
    "```\n",
    "query = \"\"\"EXPLAIN ANALYZE \n",
    "SELECT COUNT(*) FROM fakedata.testindex \n",
    "WHERE productname LIKE '%flavor%';\"\"\"\n",
    "cur.execute(query)\n",
    "cur.fetchall()\n",
    "```"
   ]
  },
  {
   "cell_type": "markdown",
   "id": "4574f855",
   "metadata": {},
   "source": [
    "Finally, we see this query is using indexes, and it did speed up the query.\n",
    "\n",
    "### GIST \n",
    "\n",
    "- Supports many search types, including spatial and full text.\n",
    "- Can be extended to custom data types\n",
    "- Balanced tree-based method (nodes & leaves)\n",
    "\n",
    "<img src='img/gist.png' width=50%>\n",
    "\n",
    "### BRIN\n",
    "- Indexes block statistics for ordered data\n",
    "- Block min & max mapped to index\n",
    "- Search finds block first, then finds values\n",
    "- Best for larger volumes of data\n",
    "- This is essentially how we read a book’s index.\n",
    "\n",
    "<img src='img/brin.png' width=50%>\n",
    "\n",
    "We will use this later when we go through our Twitter example (tomorrow's lecture).\n",
    "\n",
    "Now we have learned about indexes, can you answer these questions?\n",
    "- What are indexes?\n",
    "- Different types of indexes?\n",
    "- When to use indexes?\n",
    "- How to use an index?\n",
    "- Why do I need an index?\n",
    "\n",
    "## Compared to Other Services\n",
    "\n",
    "- BigQuery, AWS RedShift\n",
    "    - Don’t use Indexes, infrastructure searches whole “columns”\n",
    "  \n",
    "- MongoDB\n",
    "    - Single & multiparameter indexes (similar to b-tree)\n",
    "    - spatial (similar to GIST)\n",
    "    - text indexes (similar to GIN)\n",
    "    - hash index\n",
    "    \n",
    "- Neo4j (Graph Database)\n",
    "    - b-tree and full text\n",
    "\n",
    "## Summary\n",
    "- Indexes are important to speed up operations\n",
    "- Indexes are optimized to certain kinds of data\n",
    "- Index performance can be assessed using `EXPLAIN.`\n",
    "- Indexes can come at a cost"
   ]
  }
 ],
 "metadata": {
  "kernelspec": {
   "display_name": "Python 3 (ipykernel)",
   "language": "python",
   "name": "python3"
  },
  "language_info": {
   "codemirror_mode": {
    "name": "ipython",
    "version": 3
   },
   "file_extension": ".py",
   "mimetype": "text/x-python",
   "name": "python",
   "nbconvert_exporter": "python",
   "pygments_lexer": "ipython3",
   "version": "3.8.12"
  }
 },
 "nbformat": 4,
 "nbformat_minor": 5
}
