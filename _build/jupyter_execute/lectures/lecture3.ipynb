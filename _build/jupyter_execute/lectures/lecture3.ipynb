{
 "cells": [
  {
   "cell_type": "markdown",
   "id": "a26f0deb",
   "metadata": {},
   "source": [
    "# Lecture 2: Introduction to cloud computing and connection to cloud\n",
    "Gittu George, January 6 2022"
   ]
  },
  {
   "cell_type": "markdown",
   "id": "01b5fc58",
   "metadata": {},
   "source": [
    "## Todays Agenda\n",
    "\n",
    "- Intro to cloud computing – WHAT ?, WHY ?, HOW?\n",
    "- General overview on services available in AWS (Amazon web services)\n",
    "- Various database services available in AWS\n",
    "- Details on RDS - Relational Database Service\n",
    "- Connecting to RDS (Postgres)\n",
    "\n",
    "## Learning objectives\n",
    "- Have a general understanding of cloud computing and help you get started.\n",
    "- You will know how to connect to a remote database from a Jupyter notebook.\n",
    "- Different ways in interacting with the database from jupyter notebook.\n",
    "- Showing different ways of loading the data.\n",
    "- You will use queries to bring data into a Jupyter notebook and provide a simple data analysis.\n",
    "\n",
    "\n",
    "\n",
    "## Intro to cloud computing\n",
    "\n",
    "Let me tell you a short cloud-computing tale. This story starts from a computer that you all are familiar with. By the end of this tale, you will answer WHAT, WHY & HOW cloud computing.\n",
    "\n",
    "Here is the computer that I am talking about:\n",
    "<br>\n",
    "<img src='img/l31.png'>\n",
    "<br>\n",
    "OKAY! So now we all agreed to call monitor as the client and that box as server. Now let's take this knowledge to a bigger picture or think about how this idea will be when you start working in the industry. \n",
    "<br>\n",
    "<img src=\"img/l32.png\">\n",
    "<br>\n",
    "\n",
    "\n",
    "Collectively we call these servers data centers ( you can also hear people calling some other names like on-premise infrastructure). Mostly all companies (may be used to as there is this trend of moving to cloud) have data centers, which is considered a company powerhouse for powering data needs (like storage, processing, etc.)\n",
    "\n",
    "If you want to check out more on those gigantic data centers. Checkout [here](https://www.youtube.com/watch?v=g7JaN3rTK2A)\n",
    "\n",
    "Let me pause and take a minute to answer this question:\n",
    "\n",
    "```{sidebar} Question is here..\n",
    "So assume that UBC has some server, and we are using this “client-server model” to do our analysis, then what do we not care about in the laptop requirements that MBAN mandates?\n",
    "```\n",
    "<img src='img/l33.png' width='55%'>\n",
    "\n",
    "<br>\n",
    "<br>\n",
    "\n",
    "Now that you understand this client-server model, let's look inside these data centers to see which parties are involved.\n",
    "\n",
    "\n",
    "```{margin}\n",
    "<img src=\"img/funny.png\">\n",
    "```\n",
    "<img src=img/l35.png>\n",
    "\n",
    "\n",
    "List down in your notes about the labor costs:\n",
    "\n",
    "List down costs other than labor cost:\n",
    "\n",
    "With cloud computing, we are bringing down most of the costs you listed now. Look how neat and clean the diagram below is as cloud providers are taking care of most of the responsibilities that we discussed and using their infrastructure servers as services.\n",
    "\n",
    "```{margin}\n",
    "<img src=\"img/whocares.png\">\n",
    "```\n",
    "<img src=img/l34.png>\n",
    "\n",
    "\n",
    "I hope by now you can formulate an answer for questions WHAT, WHY, and HOW cloud computing. \n",
    "\n",
    "- ***WHAT?***\n",
    "Cloud Computing is when we get a server in the cloud for our compute, storage, databases, and network services provided to users via the internet.\n",
    "\n",
    "- ***WHY?***\n",
    "Save lots of money that otherwise need to spend for on-premise infrastructure, and I don't want to worry about infrastructure and can focus on your analysis right from day1.\n",
    "\n",
    "- ***HOW?***\n",
    "Some cloud vendors provide infrastructure as a service by taking care of all the responsibilities that otherwise need to be done on-premise.\n",
    "\n",
    "## Benefits of cloud computing:\n",
    "- Trade capital expense for variable expense\n",
    "- Massive economies of scale\n",
    "- Stop guessing capacity\n",
    "- Increase speed and agility\n",
    "- Stop spending money on running and maintaining data centers\n",
    "- Go global in minutes\n",
    "\n",
    "Source: aws\n",
    "\n",
    "## Cloud providers\n",
    "- Amazon Web Services (AWS)\n",
    "- Microsoft Azure\n",
    "- Google Cloud\n",
    "\n",
    "## Category of services available in AWS\n",
    "- Compute\n",
    "  - EC2 – Elastic Cloud Compute\n",
    "- Storage\n",
    "  - EBS - Elastic Block Storage\n",
    "  - S3 - Simple Storage Service\n",
    "- Database\n",
    "\n",
    "<img src=\"img/l36.png\">\n",
    "\n",
    "Source: [dbtest](https://www.dbbest.com/technologies/nosql-databases/)\n",
    "\n",
    "### Database (Amazon RDS)\n",
    "- Relational database service (RDS) provides a simple way to provision, create, and scale a relational database within AWS.\n",
    "- Managed service – AWS takes responsibility for the administrative tasks\n",
    "- Following database engines are supported\n",
    "  - Amazon Aurora\n",
    "  - PostgreSQL\n",
    "  - MySQL\n",
    "  - MariaDB\n",
    "  - Oracle Database\n",
    "  - SQL Server\n",
    "\n",
    "For a list of entire services and details, check out [here](https://d1.awsstatic.com/whitepapers/aws-overview.pdf)\n",
    "\n",
    "## Ways to interact with AWS\n",
    "\n",
    "- [Web interface](https://www.awsacademy.com/LMS_Login)\n",
    "\n",
    "    A web-based GUI provides the capability to interact with the services within AWS.\n",
    "\n",
    "- [AWS CLI](https://aws.amazon.com/cli/)\n",
    "\n",
    "- [SDK](https://aws.amazon.com/sdk-for-python/)\n",
    "\n",
    "A good blog [here](https://adamraffe.com/2019/02/20/aws-fundamentals-part-3-interacting-with-aws/) explains various ways of interaction.\n",
    "\n",
    "## Demo\n",
    "Lets together explore AWS\n",
    "\n",
    "```{figure} img/explore.png\n",
    "---\n",
    "width: 200px\n",
    "align: center\n",
    "---\n",
    "```"
   ]
  },
  {
   "cell_type": "markdown",
   "id": "81990cd8",
   "metadata": {},
   "source": [
    "## Connecting To Cloud (RDS)\n",
    "Consider your database what you built as an independent entity. Then, follow instructions to set up your database in the cloud.\n",
    "\n",
    "OKAY.. so now you have your database ready! In our case, we set up our Postgres database in RDS. Since you are not using an already existing database, you created it, so it's empty now. So we need to load data into this database. After loading data to the database, we are all set with querying from the database.\n",
    "\n",
    "Whether it's for loading or querying the database, we need to connect to the database. You all are aware of 2 other ways that you can use to interact with the database outside of this jupyter notebook.\n",
    "\n",
    "- pgadmin\n",
    "- psql\n",
    "\n",
    "What information do you want to know if you're going to connect to the above? We need to know the information of the database that you wanted to connect to \n",
    "- Hostname\n",
    "- Port number\n",
    "- User name (need to make sure that this user have access to the database)\n",
    "- Password (Ofcourse !! you need to know the password for this user)\n",
    "\n",
    "If you want to know more details refer to the installation notes for pgadmin & psql\n",
    "\n",
    "Now let's think about other sources you want to connect to the database. Here are a few that I thought of\n",
    "- From a programming language (java, R, python, etc..)\n",
    "- From your jupyter notebook\n",
    "- From tableau \n",
    "- From excel \n",
    "- From R Studio\n",
    "- OR from any other application that you are using, e.g., your banking website\n",
    "\n",
    "Besides knowing the hostname, port name, username, and password, we also need to install an Application programming interface (API) that helps the applications on the client-side communicate with the server-side (in our case database). Java Database Connectivity (JDBC) and Open Database Connectivity (ODBC) are 2 of such APIs that are provided by the database vendor (Postgres, Oracle, MySQL, etc..) to access their database.\n",
    "\n",
    "JDBC is language-specific, and its the standard interface between any java application and database. JDBC converts the java programmer's requests to the database to something that the database understands (you can think of it as a translator). Meanwhile, ODBC is not language-specific, so it can convert requests from any application/software/programming language to something the database understands. Here is a diagram that will help you understand how ODBC works.\n",
    "\n",
    "<img src=\"img/connection.png\" width= 65%>\n",
    "\n",
    "```{sidebar} How ODBC connects ?\n",
    "```{figure} img/odbc.png\n",
    "---\n",
    "width: 450px\n",
    "align: center\n",
    "---\n",
    "```\n",
    "In the rest of the section, let's focus on connecting to the database from python and the jupyter notebook. We will be using specific packages to make this possible, but as we have discussed, it uses ODBC for the connection. Many packages make this possible, but we will discuss a package named `psycopg2.`"
   ]
  },
  {
   "cell_type": "markdown",
   "id": "fd85b213",
   "metadata": {},
   "source": [
    "## Using psycopg2 package\n",
    "Let first install the package using [conda](https://anaconda.org/anaconda/psycopg2)\n",
    "\n",
    "```bash\n",
    "%%sh\n",
    "conda install -c anaconda psycopg2 \n",
    "```\n",
    "Let's make sure that we can import it."
   ]
  },
  {
   "cell_type": "markdown",
   "id": "0dffddf8",
   "metadata": {},
   "source": [
    "```\n",
    "import psycopg2\n",
    "```"
   ]
  },
  {
   "cell_type": "markdown",
   "id": "6e2ef767",
   "metadata": {},
   "source": [
    "Now we have `psycopg2` imported into our notebook. `psycopg2` package manages the interaction between python and our database. So the first takeaway message here is that psycopg2 has nothing to do with jupyter notebook; rather, it's tied to python. So we use jupyter notebook as an interactive programming environment to query in python. Later if time permits, we will talk about `SQL magics,` which is a specific way of interacting with databases from jupyter notebook.\n",
    "\n",
    "Okay! Let's now get to the steps to connect to a database using psycopg2.\n",
    "\n",
    "- ***Create a connection*** \n",
    "\n",
    "    This connection allows communication with the database; It opens up a network connection.\n",
    "\n",
    "- ***Create a cursor***\n",
    "\n",
    "    The cursor is an address for the memory on the database management server to say this is what we are looking at. This python object helps you execute the query and fetch the results from the database. You can read more about cursors [here](https://medium.com/dev-bits/understanding-postgresql-cursors-with-python-ebc3da591fe7).\n",
    "\n",
    "- ***Formulate your query***\n",
    "\n",
    "    Formulate the SQL query that you want to execute in the database.\n",
    "\n",
    "- ***Execute***\n",
    "\n",
    "    Pass your query to execute() method of cursor object, run the query in the database.\n",
    "\n",
    "- ***Fetch/commit/rollback***\n",
    "\n",
    "    The query that we performed in execute doesn't return the query right away. To return it, we need to perform a fetch. If the query is to write something, then we need to commit it. If some transaction went wrong, then we need to roll back it.\n",
    "\n",
    "Let's now check out these by creating a ticker table, loading data to it, and doing some querying. Let's first create schema import,\n",
    "\n",
    "```{note}\n",
    "Below you need to replace the `conString` values with your `host`,`dbname`,`user`, `password`, and `port` you used while creating your RDS instance.\n",
    "```"
   ]
  },
  {
   "cell_type": "markdown",
   "id": "df63401d",
   "metadata": {},
   "source": [
    "```bash\n",
    "# Create a connection\n",
    "conString = {'host':'mbandtweet.xxxxx.amazonaws.com',\n",
    "             'dbname':'postgres',\n",
    "             'user':'postgres',\n",
    "             'password':'password',\n",
    "             'port':5432}\n",
    "conn = psycopg2.connect(**conString)\n",
    "# Create a cursor\n",
    "cur = conn.cursor()\n",
    "# - Formulate your query\n",
    "query = \"\"\"CREATE SCHEMA IF NOT EXISTS classwork\"\"\"\n",
    "# - Execute\n",
    "cur.execute(query)\n",
    "# - commiting.\n",
    "conn.commit()\n",
    "```"
   ]
  },
  {
   "cell_type": "markdown",
   "id": "0d2cf03c",
   "metadata": {},
   "source": [
    "In the above code we created schema import. You probably already know about it, but if you want to read more on when & why use schema, check this [out](https://www.postgresql.org/docs/8.1/ddl-schemas.html). Let's create table,"
   ]
  },
  {
   "cell_type": "markdown",
   "id": "0e4f5123",
   "metadata": {},
   "source": [
    "```\n",
    "## Here we create the table tickers\n",
    "cur.execute(\"\"\"CREATE TABLE IF NOT EXISTS classwork.tickers(\n",
    "               actsymbol text PRIMARY KEY,\n",
    "               securityname text,\n",
    "               exchange text,\n",
    "               cqssymbol text,\n",
    "               etf text,\n",
    "               roundlotsize text,\n",
    "               testissue text,\n",
    "               nasdaqsymbol text)\"\"\")\n",
    "conn.commit()\n",
    "```"
   ]
  },
  {
   "cell_type": "markdown",
   "id": "75b203f0",
   "metadata": {},
   "source": [
    "### Loading the data to database\n",
    "Now we have our table ready, let's load data into this table. Here we read line by line using python and then insert it into the table using `execute.` This took me around ~5 min.\n",
    "\n",
    "```bash\n",
    "from ftplib import FTP\n",
    "from io import StringIO\n",
    "import csv\n",
    "\n",
    "session = FTP('ftp.nasdaqtrader.com')\n",
    "session.login()\n",
    "r = StringIO()\n",
    "session.retrlines('RETR /SymbolDirectory/otherlisted.txt', lambda x: r.write(x+'\\n'))\n",
    "r.seek(0)\n",
    "csvfile = list(csv.DictReader(r, delimiter='|'))\n",
    "\n",
    "## Here we are reading each row and then inserting it to the table one at a time \n",
    "for row in csvfile:\n",
    "    cur.execute(\"INSERT INTO classwork.tickers VALUES (%s, %s, %s, %s, %s, %s, %s, %s)\", list(row.values()))\n",
    "\n",
    "conn.commit()\n",
    "```"
   ]
  },
  {
   "cell_type": "markdown",
   "id": "ad6f3434",
   "metadata": {},
   "source": [
    "There are many other ways of loading the data to the table. Few to mention\n",
    "\n",
    "- [copy_from](https://naysan.ca/2020/06/21/pandas-to-postgresql-using-psycopg2-copy_from/)\n",
    "- [COPY](https://www.postgresql.org/docs/13/sql-copy.html) command.\n",
    "\n",
    "When using these methods, make sure your CSV file is formatted correctly, or else you will be getting errors.\n",
    "\n",
    "If you want to read more on other ways to load data in Postgres, check out [this](https://www.highgo.ca/2020/12/08/bulk-loading-into-postgresql-options-and-comparison/) article."
   ]
  },
  {
   "cell_type": "markdown",
   "id": "c077aa8d",
   "metadata": {},
   "source": [
    "### Reading data from database\n",
    "As discussed before, an execute doesn't return the data right away, and we need to perform a fetch. There are mainly 3 flavors of fetch \n",
    "- fetchone\n",
    "- fetchmany\n",
    "- fetchall"
   ]
  },
  {
   "cell_type": "markdown",
   "id": "7b2b1440",
   "metadata": {},
   "source": [
    "```\n",
    "query = \"\"\"SELECT * FROM classwork.tickers\"\"\"\n",
    "cur.execute(query)\n",
    "row = cur.fetchone()\n",
    "print(row)\n",
    "````"
   ]
  },
  {
   "cell_type": "markdown",
   "id": "2dd3cff8",
   "metadata": {},
   "source": [
    "```\n",
    "query = \"\"\"SELECT * FROM classwork.tickers\"\"\"\n",
    "cur.execute(query)\n",
    "row = cur.fetchmany(5)\n",
    "print(row)\n",
    "````"
   ]
  },
  {
   "cell_type": "markdown",
   "id": "256bf3f2",
   "metadata": {},
   "source": [
    "```\n",
    "query = \"\"\"SELECT * FROM classwork.tickers LIMIT 5\"\"\"\n",
    "cur.execute(query)\n",
    "row = cur.fetchall()\n",
    "print(row)\n",
    "```"
   ]
  },
  {
   "cell_type": "markdown",
   "id": "76b7369e",
   "metadata": {},
   "source": [
    "Sometimes you might not need everything that is returned from a database. For example, you might want to transform each row returned from the database. In these cases fetching each row at a time will be of help."
   ]
  },
  {
   "cell_type": "markdown",
   "id": "71c48282",
   "metadata": {},
   "source": [
    "```\n",
    "query = \"\"\"SELECT * FROM classwork.tickers LIMIT 5\"\"\"\n",
    "cur.execute(query)\n",
    "for rows in cur:\n",
    "    print(rows[1])\n",
    "```"
   ]
  },
  {
   "cell_type": "markdown",
   "id": "2b16904a",
   "metadata": {},
   "source": [
    "But in general most of the cases, you can go with fetchall, provided you write an efficient SQL query to execute and get just the columns and rows that you are interested in. "
   ]
  },
  {
   "cell_type": "markdown",
   "id": "ba83dae9",
   "metadata": {},
   "source": [
    "Before we move to the next topic, let me show you how rollback works. Say, for instance, your query ends up failing for some reason."
   ]
  },
  {
   "cell_type": "markdown",
   "id": "5bb59c12",
   "metadata": {},
   "source": [
    "```\n",
    "query = \"\"\"SELECT * FROM classwrk.tickers LIMIT 5\"\"\"\n",
    "cur.execute(query)\n",
    "row = cur.fetchall()\n",
    "print(row)\n",
    "```"
   ]
  },
  {
   "cell_type": "markdown",
   "id": "2e6dc43e",
   "metadata": {},
   "source": [
    "You realized it and corrected it."
   ]
  },
  {
   "cell_type": "markdown",
   "id": "c96c333b",
   "metadata": {},
   "source": [
    "```\n",
    "query = \"\"\"SELECT * FROM classwork.tickers LIMIT 5\"\"\"\n",
    "cur.execute(query)\n",
    "row = cur.fetchall()\n",
    "print(row)\n",
    "```"
   ]
  },
  {
   "cell_type": "markdown",
   "id": "0bc47450",
   "metadata": {},
   "source": [
    "But this query, even though it's correct it won't end up going through and will get this error saying `your current transaction is aborted`\n",
    "\n",
    "<img src='img/error.png' width='55%'>"
   ]
  },
  {
   "cell_type": "markdown",
   "id": "277ced49",
   "metadata": {},
   "source": [
    "You need to do a `rollback()` to back to the previous stable state and then execute your query."
   ]
  },
  {
   "cell_type": "markdown",
   "id": "43def46e",
   "metadata": {},
   "source": [
    "```\n",
    "conn.rollback()\n",
    "```"
   ]
  },
  {
   "cell_type": "markdown",
   "id": "4c99b1ad",
   "metadata": {},
   "source": [
    "```\n",
    "query = \"\"\"SELECT * FROM classwork.tickers LIMIT 5\"\"\"\n",
    "cur.execute(query)\n",
    "row = cur.fetchall()\n",
    "print(row)\n",
    "```"
   ]
  },
  {
   "cell_type": "markdown",
   "id": "8bd8217e",
   "metadata": {},
   "source": [
    "```{important}\n",
    "Whenever you get an error, as we showed before, `InFailedSqlTransaction: current transaction is aborted, commands ignored until end of transaction block\n",
    "`, make sure you do a `rollback`.\n",
    "```\n",
    "\n",
    "```{tip}\n",
    "It's not a bad idea to develop your SQL query in pgadmin, toad or any other GUI interface and then bring it in once you know it's ready.\n",
    "```"
   ]
  },
  {
   "cell_type": "markdown",
   "id": "cfa7dbb5",
   "metadata": {},
   "source": [
    "## Dealing with passwords\n",
    "```{margin}\n",
    "<img src=\"img/secret.png\">\n",
    "```\n",
    "Say if you want to share this notebook with your colleague, or if somebody came by and looked at your notebook, they can see your database connection details, including your password. It's probably okay now as it's a toy database, but when you start working in the industry, you will be dealing with a database ( or, in other words, business), and it can cause lots of problems if the password is compromised. So now on, let's practice not doing the connection call as I did.\n",
    "\n",
    "We will make use of a python package dotenv. Install python package"
   ]
  },
  {
   "cell_type": "markdown",
   "id": "f3cac0fa",
   "metadata": {},
   "source": [
    "```\n",
    "%%sh\n",
    "conda install -c anaconda python-dotenv\n",
    "```"
   ]
  },
  {
   "cell_type": "markdown",
   "id": "ee2ecf93",
   "metadata": {},
   "source": [
    "```{seealso}\n",
    "https://anaconda.org/conda-forge/python-dotenv\n",
    "```\n",
    "\n",
    "This package looks for a .env file in the folder where your notebook resides, and it loads your database connection details to the environment variable for your session. Here is how my env file looks like\n",
    "\n",
    "```bash\n",
    "(base) ggeorg02@MacBook-Pro assign1 % cat .env  \n",
    "DB_HOST=mbandtweet.xxxxx.us-west-2.rds.amazonaws.com\n",
    "DB_NAME=postgres\n",
    "DB_USER=postgres\n",
    "DB_PASS=password\n",
    "DB_PORT=5432\n",
    "```\n",
    "You have to change this to your connection details\n",
    "To create a .env file, you might want to use your terminal. Check how to use [vi editor](https://www.howtogeek.com/102468/a-beginners-guide-to-editing-text-files-with-vi/)\n",
    "\n",
    "```bash\n",
    "cd <path to your notebook folder>\n",
    "vi .env\n",
    "```\n",
    "\n",
    "```{note}\n",
    "I purposely created this file with just an extension, not a filename. And you can usually make this kind of file only from the terminal, so I am using vi editor. You might not be able to find this file from your file explorer, and that's the reason we created it starting with a period. This means that `.iamasecretfile`. So no wonder why you can't see, right? This way, no one can accidentally look at this file when using your computer. if you want to see it, then again, you want to go to terminal and type `ls -a`\n",
    "```\n",
    "\n",
    "After this, you can call all variables like this. "
   ]
  },
  {
   "cell_type": "markdown",
   "id": "d2cc04c8",
   "metadata": {},
   "source": [
    "```\n",
    "import os\n",
    "import psycopg2\n",
    "\n",
    "##Make sure you import and load your .env file\n",
    "from dotenv import load_dotenv\n",
    "load_dotenv()\n",
    "\n",
    "conString = {'host':os.environ.get('DB_HOST'),\n",
    "             'dbname':os.environ.get('DB_NAME'),\n",
    "             'user':os.environ.get('DB_USER'),\n",
    "             'password':os.environ.get('DB_PASS'),\n",
    "             'port':os.environ.get('DB_PORT')}\n",
    "print(conString[\"port\"])\n",
    "```"
   ]
  },
  {
   "cell_type": "markdown",
   "id": "e0b20dee",
   "metadata": {},
   "source": [
    "This way, you don't have to worry about exposing your password to anyone.\n",
    "\n",
    "```{caution}\n",
    "Nowhere in assignments/projects should you include the hostname or password. If anything needs to be checked, then TA's will contact you.\n",
    "```\n",
    "\n",
    "```{important}\n",
    "Make sure you close the cursor and connection before quitting your jupyter notebook. This is a good practice and can protect you from memory leakage and too many open connections.\n",
    "```"
   ]
  },
  {
   "cell_type": "markdown",
   "id": "23a2f724",
   "metadata": {},
   "source": [
    "```\n",
    "cur.close()\n",
    "conn.close()\n",
    "```"
   ]
  },
  {
   "cell_type": "markdown",
   "id": "c6435b54",
   "metadata": {},
   "source": [
    "## Working with dumps\n",
    "Taking dumps comes in handy when you want to share a copy of your database with someone or if you're going to keep it as a backup. \n",
    "\n",
    "- How can I take a dump of the database that I already have. \n",
    "```bash\n",
    "pg_dump -h mbandtweet.xxxxx.ca-central-1.rds.amazonaws.com --username=postgres -n import -f import.sql`_\n",
    "```\n",
    "Read more about how to take database dumps [here](https://www.postgresql.org/docs/12/app-pgdump.html).\n",
    "\n",
    "- How can you load these dumps to make your schema and tables ready?\n",
    "\n",
    "psql -h HOST_NAME -U USER_NAME DATABASE < PATH_TO_THE_.sql_DUMP_FILE\n",
    "\n",
    "```bash\n",
    "psql -h mbandtweet.xxxx.us-west-2.rds.amazonaws.com -U Postgres Postgres < import.sql\n",
    "```"
   ]
  },
  {
   "cell_type": "markdown",
   "id": "ad51007f",
   "metadata": {},
   "source": [
    "```{warning}\n",
    "If you are not using your RDS instance, make sure you shut it down from your AWS console. You can always restart it when working on your assignments/projects. However, your credits are limited, and if those get exhausted, we won't provide you with more.\n",
    "```\n",
    "\n",
    "```{note}\n",
    "Closing your lab doesn't shut down the RDS instance; you need to shut it down from your AWS console explicitly.\n",
    "```"
   ]
  }
 ],
 "metadata": {
  "kernelspec": {
   "display_name": "Python 3 (ipykernel)",
   "language": "python",
   "name": "python3"
  },
  "language_info": {
   "codemirror_mode": {
    "name": "ipython",
    "version": 3
   },
   "file_extension": ".py",
   "mimetype": "text/x-python",
   "name": "python",
   "nbconvert_exporter": "python",
   "pygments_lexer": "ipython3",
   "version": "3.8.12"
  }
 },
 "nbformat": 4,
 "nbformat_minor": 5
}